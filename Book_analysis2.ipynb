{
 "cells": [
  {
   "cell_type": "markdown",
   "id": "84876dce-8d14-451e-aa60-331062c93e16",
   "metadata": {},
   "source": [
    "# Loading the book"
   ]
  },
  {
   "cell_type": "code",
   "execution_count": 1,
   "id": "2915d110-c4b7-40fb-8faa-b43760dc2c5e",
   "metadata": {},
   "outputs": [],
   "source": [
    "with open(\"miracle_in_the_andes.txt\", \"r\", encoding=\"utf-8\") as file:\n",
    "    book = file.read()"
   ]
  },
  {
   "cell_type": "markdown",
   "id": "304053e4-9eea-459c-a570-b9b2e11f8022",
   "metadata": {},
   "source": [
    "# Most used words (non-article words)"
   ]
  },
  {
   "cell_type": "code",
   "execution_count": 2,
   "id": "a1d88f40-de5e-418e-b525-4a10255482a1",
   "metadata": {},
   "outputs": [],
   "source": [
    "import re\n",
    "pattern = re.compile(\"[a-zA-Z]+\")\n",
    "findings = re.findall(pattern, book.lower())"
   ]
  },
  {
   "cell_type": "code",
   "execution_count": null,
   "id": "f5853d68-9372-433f-9461-abc4f5ce345c",
   "metadata": {},
   "outputs": [],
   "source": []
  },
  {
   "cell_type": "code",
   "execution_count": 3,
   "id": "3ac3c79e-5ac8-4773-aaad-c57d1b660376",
   "metadata": {},
   "outputs": [],
   "source": [
    "d = {}\n",
    "for word in findings:\n",
    "    if word in d.keys():\n",
    "        d[word] = d[word] + 1\n",
    "    else:\n",
    "        d[word] = 1"
   ]
  },
  {
   "cell_type": "code",
   "execution_count": 4,
   "id": "c973a468-771c-4d80-8126-991ed9158fef",
   "metadata": {},
   "outputs": [
    {
     "data": {
      "text/plain": [
       "[(5346, 'the'), (2795, 'and'), (2729, 'i'), (2400, 'to'), (2060, 'of')]"
      ]
     },
     "execution_count": 4,
     "metadata": {},
     "output_type": "execute_result"
    }
   ],
   "source": [
    "d_list = [(value, key) for (key, value) in d.items()]\n",
    "d_list = sorted(d_list, reverse=True)\n",
    "d_list[:5]"
   ]
  },
  {
   "cell_type": "code",
   "execution_count": 5,
   "id": "a7eb6fe2-0374-41c1-8313-eccc6db60eb2",
   "metadata": {},
   "outputs": [
    {
     "data": {
      "text/plain": [
       "'3.13.1'"
      ]
     },
     "execution_count": 5,
     "metadata": {},
     "output_type": "execute_result"
    }
   ],
   "source": [
    "from platform import python_version\n",
    "python_version()"
   ]
  },
  {
   "cell_type": "code",
   "execution_count": 9,
   "id": "163f814a-d8dc-4c7b-9a5c-019071e72759",
   "metadata": {},
   "outputs": [
    {
     "name": "stdout",
     "output_type": "stream",
     "text": [
      "Requirement already satisfied: nltk in c:\\study\\udemy\\python\\python_apps\\book-analysis-webapp\\.venv\\lib\\site-packages (3.9.1)\n",
      "Requirement already satisfied: click in c:\\study\\udemy\\python\\python_apps\\book-analysis-webapp\\.venv\\lib\\site-packages (from nltk) (8.2.1)\n",
      "Requirement already satisfied: joblib in c:\\study\\udemy\\python\\python_apps\\book-analysis-webapp\\.venv\\lib\\site-packages (from nltk) (1.5.1)\n",
      "Requirement already satisfied: regex>=2021.8.3 in c:\\study\\udemy\\python\\python_apps\\book-analysis-webapp\\.venv\\lib\\site-packages (from nltk) (2024.11.6)\n",
      "Requirement already satisfied: tqdm in c:\\study\\udemy\\python\\python_apps\\book-analysis-webapp\\.venv\\lib\\site-packages (from nltk) (4.67.1)\n",
      "Requirement already satisfied: colorama in c:\\users\\aggar\\appdata\\local\\programs\\python\\python313\\lib\\site-packages (from click->nltk) (0.4.6)\n"
     ]
    }
   ],
   "source": [
    "!pip3.13 install nltk"
   ]
  },
  {
   "cell_type": "code",
   "execution_count": 13,
   "id": "c04b34f9-fc1f-456f-be46-27dcd782ae84",
   "metadata": {},
   "outputs": [
    {
     "name": "stderr",
     "output_type": "stream",
     "text": [
      "[nltk_data] Downloading package stopwords to\n",
      "[nltk_data]     C:\\Users\\aggar\\AppData\\Roaming\\nltk_data...\n",
      "[nltk_data]   Unzipping corpora\\stopwords.zip.\n"
     ]
    },
    {
     "data": {
      "text/plain": [
       "True"
      ]
     },
     "execution_count": 13,
     "metadata": {},
     "output_type": "execute_result"
    }
   ],
   "source": [
    "import nltk\n",
    "from nltk.corpus import stopwords\n",
    "nltk.download('stopwords')"
   ]
  },
  {
   "cell_type": "code",
   "execution_count": 16,
   "id": "6e1b71fb-e3ee-4a37-9375-071a40a6c9ef",
   "metadata": {},
   "outputs": [],
   "source": [
    "english_stopwords = stopwords.words(\"english\")"
   ]
  },
  {
   "cell_type": "code",
   "execution_count": 19,
   "id": "528c5df3-544c-412f-97bc-d58dba237484",
   "metadata": {},
   "outputs": [],
   "source": [
    "filtered_words = []\n",
    "for count, word in d_list:\n",
    "    if word not in english_stopwords:\n",
    "        filtered_words.append((word, count))"
   ]
  },
  {
   "cell_type": "code",
   "execution_count": 21,
   "id": "2c3af2d4-1017-4481-8567-843de7fef785",
   "metadata": {},
   "outputs": [
    {
     "data": {
      "text/plain": [
       "[('would', 575),\n",
       " ('us', 519),\n",
       " ('said', 292),\n",
       " ('roberto', 284),\n",
       " ('could', 252),\n",
       " ('one', 249),\n",
       " ('snow', 227),\n",
       " ('mountain', 183),\n",
       " ('time', 182),\n",
       " ('like', 165)]"
      ]
     },
     "execution_count": 21,
     "metadata": {},
     "output_type": "execute_result"
    }
   ],
   "source": [
    "filtered_words[:10]"
   ]
  },
  {
   "cell_type": "markdown",
   "id": "f97d3266-4e1c-4c1c-95ad-239c448a5b74",
   "metadata": {},
   "source": [
    "# Sentiment Analysis: What is the most positive and most negative Chapter?"
   ]
  },
  {
   "cell_type": "markdown",
   "id": "280357aa-6e72-43c9-8a80-95a254ac4f09",
   "metadata": {},
   "source": [
    "### An example"
   ]
  },
  {
   "cell_type": "code",
   "execution_count": 25,
   "id": "c6873607-40d3-4ee7-9f38-aef3a2824b98",
   "metadata": {},
   "outputs": [
    {
     "name": "stderr",
     "output_type": "stream",
     "text": [
      "[nltk_data] Downloading package vader_lexicon to\n",
      "[nltk_data]     C:\\Users\\aggar\\AppData\\Roaming\\nltk_data...\n"
     ]
    },
    {
     "data": {
      "text/plain": [
       "True"
      ]
     },
     "execution_count": 25,
     "metadata": {},
     "output_type": "execute_result"
    }
   ],
   "source": [
    "from nltk.sentiment import SentimentIntensityAnalyzer\n",
    "nltk.download('vader_lexicon')"
   ]
  },
  {
   "cell_type": "code",
   "execution_count": 26,
   "id": "ecfc430f-ca8d-4b57-8191-211f69e02f31",
   "metadata": {},
   "outputs": [],
   "source": [
    "analyzer = SentimentIntensityAnalyzer()"
   ]
  },
  {
   "cell_type": "code",
   "execution_count": 32,
   "id": "a7647554-4596-46a6-898e-e478fd0a3ce2",
   "metadata": {},
   "outputs": [
    {
     "data": {
      "text/plain": [
       "{'neg': 0.0, 'neu': 0.606, 'pos': 0.394, 'compound': 0.5994}"
      ]
     },
     "execution_count": 32,
     "metadata": {},
     "output_type": "execute_result"
    }
   ],
   "source": [
    "scores = analyzer.polarity_scores(\"Hey, how beautiful is the day today\")\n",
    "scores"
   ]
  },
  {
   "cell_type": "code",
   "execution_count": 34,
   "id": "a3fe5414-aff5-41cd-8526-6b15b0fce1a8",
   "metadata": {},
   "outputs": [
    {
     "name": "stdout",
     "output_type": "stream",
     "text": [
      "It is a positive text.\n"
     ]
    }
   ],
   "source": [
    "if scores[\"pos\"] > scores[\"neg\"]:\n",
    "    print(\"It is a positive text.\")\n",
    "else:\n",
    "    print(\"It is a negative text.\")"
   ]
  },
  {
   "cell_type": "code",
   "execution_count": 35,
   "id": "87b4cdeb-b6b9-4afd-a4c5-35b616ac2201",
   "metadata": {},
   "outputs": [
    {
     "data": {
      "text/plain": [
       "{'neg': 0.116, 'neu': 0.76, 'pos': 0.125, 'compound': 1.0}"
      ]
     },
     "execution_count": 35,
     "metadata": {},
     "output_type": "execute_result"
    }
   ],
   "source": [
    "analyzer.polarity_scores(book)"
   ]
  },
  {
   "cell_type": "markdown",
   "id": "51e6a47a-73bd-4b03-82af-1c05c6a69dcc",
   "metadata": {},
   "source": [
    "### Chapters sentiment analysis"
   ]
  },
  {
   "cell_type": "code",
   "execution_count": 37,
   "id": "d16297ed-70bd-410d-a44f-f1621c876322",
   "metadata": {},
   "outputs": [],
   "source": [
    "import re\n",
    "pattern = re.compile(\"Chapter [0-9]+\")\n",
    "chapters = re.split(pattern, book)"
   ]
  },
  {
   "cell_type": "code",
   "execution_count": 39,
   "id": "63d86ad6-90e0-4b5f-ae6c-895870343e6f",
   "metadata": {},
   "outputs": [],
   "source": [
    "chapters = chapters[1:]"
   ]
  },
  {
   "cell_type": "code",
   "execution_count": 47,
   "id": "4945b1c7-0806-4224-aacb-9ac2f0a4c290",
   "metadata": {},
   "outputs": [
    {
     "name": "stdout",
     "output_type": "stream",
     "text": [
      "Chapter 1 score: {'neg': 0.061, 'neu': 0.779, 'pos': 0.16, 'compound': 1.0} --> Chapter 1 has more positive sediments than negative.\n",
      "Chapter 2 score: {'neg': 0.12, 'neu': 0.726, 'pos': 0.154, 'compound': 0.9991} --> Chapter 2 has more positive sediments than negative.\n",
      "Chapter 3 score: {'neg': 0.145, 'neu': 0.751, 'pos': 0.105, 'compound': -0.9999} --> Chapter 3 has more negative sediments than positive.\n",
      "Chapter 4 score: {'neg': 0.141, 'neu': 0.721, 'pos': 0.138, 'compound': -0.9963} --> Chapter 4 has more negative sediments than positive.\n",
      "Chapter 5 score: {'neg': 0.118, 'neu': 0.742, 'pos': 0.141, 'compound': 0.9997} --> Chapter 5 has more positive sediments than negative.\n",
      "Chapter 6 score: {'neg': 0.124, 'neu': 0.761, 'pos': 0.115, 'compound': -0.9979} --> Chapter 6 has more negative sediments than positive.\n",
      "Chapter 7 score: {'neg': 0.136, 'neu': 0.761, 'pos': 0.103, 'compound': -0.9999} --> Chapter 7 has more negative sediments than positive.\n",
      "Chapter 8 score: {'neg': 0.12, 'neu': 0.786, 'pos': 0.094, 'compound': -0.9998} --> Chapter 8 has more negative sediments than positive.\n",
      "Chapter 9 score: {'neg': 0.097, 'neu': 0.824, 'pos': 0.079, 'compound': -0.9996} --> Chapter 9 has more negative sediments than positive.\n",
      "Chapter 10 score: {'neg': 0.086, 'neu': 0.733, 'pos': 0.181, 'compound': 1.0} --> Chapter 10 has more positive sediments than negative.\n"
     ]
    }
   ],
   "source": [
    "for nr, chapter in enumerate(chapters):\n",
    "    scores = analyzer.polarity_scores(chapter)\n",
    "    if scores[\"pos\"] > scores[\"neg\"]:\n",
    "        print (f\"Chapter {nr + 1} score: {scores} --> Chapter {nr + 1} has more positive sentiments than negative.\")\n",
    "    elif scores[\"pos\"] < scores[\"neg\"]:\n",
    "        print (f\"Chapter {nr + 1} score: {scores} --> Chapter {nr + 1} has more negative sentiments than positive.\")"
   ]
  },
  {
   "cell_type": "code",
   "execution_count": null,
   "id": "d7f0436a-59e4-408f-b175-1385b8379335",
   "metadata": {},
   "outputs": [],
   "source": []
  },
  {
   "cell_type": "code",
   "execution_count": null,
   "id": "7ad11c8c-b0c8-4913-b255-ec1c24030c71",
   "metadata": {},
   "outputs": [],
   "source": []
  },
  {
   "cell_type": "code",
   "execution_count": null,
   "id": "12ba6ce2-b06d-4cc4-bfec-5728a45721c8",
   "metadata": {},
   "outputs": [],
   "source": []
  },
  {
   "cell_type": "code",
   "execution_count": null,
   "id": "fe501236-16f5-44ce-b5b0-66b71faac4ea",
   "metadata": {},
   "outputs": [],
   "source": []
  },
  {
   "cell_type": "code",
   "execution_count": null,
   "id": "8c9fe515-52b9-481b-94bd-39f5d8164d0e",
   "metadata": {},
   "outputs": [],
   "source": []
  },
  {
   "cell_type": "code",
   "execution_count": null,
   "id": "60af5f84-2faa-4926-bfab-a2766082b24f",
   "metadata": {},
   "outputs": [],
   "source": []
  },
  {
   "cell_type": "code",
   "execution_count": null,
   "id": "dd4d35dc-6cbd-4509-a968-02bbe349acf1",
   "metadata": {},
   "outputs": [],
   "source": []
  },
  {
   "cell_type": "code",
   "execution_count": null,
   "id": "a4f85b39-c39f-4d86-a7ae-2950320c088d",
   "metadata": {},
   "outputs": [],
   "source": []
  },
  {
   "cell_type": "code",
   "execution_count": null,
   "id": "ac49c94d-c73a-448a-9ae6-083a5688838e",
   "metadata": {},
   "outputs": [],
   "source": []
  }
 ],
 "metadata": {
  "kernelspec": {
   "display_name": "Python (.venv)",
   "language": "python",
   "name": "book-analysis-env"
  },
  "language_info": {
   "codemirror_mode": {
    "name": "ipython",
    "version": 3
   },
   "file_extension": ".py",
   "mimetype": "text/x-python",
   "name": "python",
   "nbconvert_exporter": "python",
   "pygments_lexer": "ipython3",
   "version": "3.13.1"
  }
 },
 "nbformat": 4,
 "nbformat_minor": 5
}
